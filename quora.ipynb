{
 "cells": [
  {
   "cell_type": "markdown",
   "id": "d81778e6-4df4-4c67-83b6-59ac122f5669",
   "metadata": {},
   "source": [
    "# 1) Importing Requisite Libraries"
   ]
  },
  {
   "cell_type": "code",
   "execution_count": null,
   "id": "3bc8737b-fbc7-43e7-8e55-b2d4e998c6a8",
   "metadata": {},
   "outputs": [],
   "source": []
  },
  {
   "cell_type": "code",
   "execution_count": null,
   "id": "d4b5f0ac-babc-4544-bc70-41073a11cca0",
   "metadata": {},
   "outputs": [],
   "source": []
  },
  {
   "cell_type": "code",
   "execution_count": null,
   "id": "e7df6c34-e963-4dfb-b3fa-45b4dde45228",
   "metadata": {},
   "outputs": [],
   "source": []
  },
  {
   "cell_type": "code",
   "execution_count": null,
   "id": "a81c213b-be91-46f7-88f6-3d6b5714cf4b",
   "metadata": {},
   "outputs": [],
   "source": []
  },
  {
   "cell_type": "code",
   "execution_count": null,
   "id": "33153d0c-dd19-4911-ac23-c40e85a2f24a",
   "metadata": {},
   "outputs": [],
   "source": []
  },
  {
   "cell_type": "code",
   "execution_count": null,
   "id": "41ba9310-5e75-4553-b2bc-86332642995e",
   "metadata": {},
   "outputs": [],
   "source": []
  },
  {
   "cell_type": "code",
   "execution_count": null,
   "id": "4438bbee-d95a-4286-be06-23c922442a50",
   "metadata": {},
   "outputs": [],
   "source": []
  },
  {
   "cell_type": "code",
   "execution_count": null,
   "id": "a062288a-44f2-4903-878e-3c6ccbd513e1",
   "metadata": {},
   "outputs": [],
   "source": []
  },
  {
   "cell_type": "code",
   "execution_count": null,
   "id": "726f12c3-9eba-4a45-89ea-8c7dfc3075c2",
   "metadata": {},
   "outputs": [],
   "source": []
  },
  {
   "cell_type": "code",
   "execution_count": null,
   "id": "bdd8f98a-217e-40c9-b3e7-a5759aeacf66",
   "metadata": {},
   "outputs": [],
   "source": []
  }
 ],
 "metadata": {
  "kernelspec": {
   "display_name": "qlops",
   "language": "python",
   "name": "qlops"
  },
  "language_info": {
   "codemirror_mode": {
    "name": "ipython",
    "version": 3
   },
   "file_extension": ".py",
   "mimetype": "text/x-python",
   "name": "python",
   "nbconvert_exporter": "python",
   "pygments_lexer": "ipython3",
   "version": "3.8.10"
  }
 },
 "nbformat": 4,
 "nbformat_minor": 5
}
